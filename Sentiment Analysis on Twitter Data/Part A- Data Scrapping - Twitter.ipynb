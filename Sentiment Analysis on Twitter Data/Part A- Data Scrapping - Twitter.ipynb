{
 "cells": [
  {
   "cell_type": "markdown",
   "id": "b190b700",
   "metadata": {},
   "source": [
    "# **Course Name: Advances in Data Science and Architechture**\n",
    "\n",
    "### Submitted by: Team 01\n",
    "#### Name - Nuid\n",
    "* Nikita Gaurihar - 002980962\n",
    "* Ronak Bhushan Patil - 001007035\n",
    "* Anshuman Karan\n",
    "* Aishwarya Ghaytadak\n",
    "___________________________________________________________________________\n",
    " \n",
    "## **Final Project** - Sentiment Analysis using Twitter Data\n",
    "\n",
    "\n",
    "### **Abstract** \n",
    "\n",
    "* With the rapidly changing technologies, social media platforms like Facebook, Instagram, Twitter, etc. are becoming the power sources for Data Scientists and Researchers. Nowadays, data has become an important aspect of running any business as it helps organisations to take data driven decisions through responsive insights. Thus, in this project, we aim to predict the sentiments of the user that has tweeted on the Twitter platform in the recent period regarding the topic - \"Ukraine-Russia war\". \n",
    "\n",
    "\n",
    "* The detailed flow of this project is mentioned below - \n",
    "    1. Data Scrapping from Twitter\n",
    "    2. Data Concatenation\n",
    "    3. Exploratory Data Analysis and Data Cleaning\n",
    "    4. Data Visualisation\n",
    "    5. Prediction through Data Modeling"
   ]
  },
  {
   "cell_type": "markdown",
   "id": "19ca32f6",
   "metadata": {},
   "source": [
    "## Importing neccesary Libraries: "
   ]
  },
  {
   "cell_type": "code",
   "execution_count": 1,
   "id": "445d3b9a",
   "metadata": {},
   "outputs": [
    {
     "name": "stdout",
     "output_type": "stream",
     "text": [
      "Requirement already satisfied: snscrape in c:\\users\\nikit\\anaconda3\\lib\\site-packages (0.4.3.20220106)\n",
      "Requirement already satisfied: filelock in c:\\users\\nikit\\anaconda3\\lib\\site-packages (from snscrape) (3.3.1)\n",
      "Requirement already satisfied: lxml in c:\\users\\nikit\\anaconda3\\lib\\site-packages (from snscrape) (4.6.3)\n",
      "Requirement already satisfied: beautifulsoup4 in c:\\users\\nikit\\anaconda3\\lib\\site-packages (from snscrape) (4.10.0)\n",
      "Requirement already satisfied: requests[socks] in c:\\users\\nikit\\anaconda3\\lib\\site-packages (from snscrape) (2.26.0)\n",
      "Requirement already satisfied: soupsieve>1.2 in c:\\users\\nikit\\anaconda3\\lib\\site-packages (from beautifulsoup4->snscrape) (2.2.1)\n",
      "Requirement already satisfied: charset-normalizer~=2.0.0 in c:\\users\\nikit\\anaconda3\\lib\\site-packages (from requests[socks]->snscrape) (2.0.4)\n",
      "Requirement already satisfied: idna<4,>=2.5 in c:\\users\\nikit\\anaconda3\\lib\\site-packages (from requests[socks]->snscrape) (3.2)\n",
      "Requirement already satisfied: urllib3<1.27,>=1.21.1 in c:\\users\\nikit\\anaconda3\\lib\\site-packages (from requests[socks]->snscrape) (1.26.7)\n",
      "Requirement already satisfied: certifi>=2017.4.17 in c:\\users\\nikit\\anaconda3\\lib\\site-packages (from requests[socks]->snscrape) (2021.10.8)\n",
      "Requirement already satisfied: PySocks!=1.5.7,>=1.5.6 in c:\\users\\nikit\\anaconda3\\lib\\site-packages (from requests[socks]->snscrape) (1.7.1)\n"
     ]
    }
   ],
   "source": [
    "# importing libraries and packages\n",
    "!pip install snscrape\n",
    "import snscrape.modules.twitter as sntwitter\n",
    "import pandas as pd"
   ]
  },
  {
   "cell_type": "markdown",
   "id": "200e0edc",
   "metadata": {},
   "source": [
    "## Folder path to save extracted data file"
   ]
  },
  {
   "cell_type": "code",
   "execution_count": 2,
   "id": "84f2e407",
   "metadata": {},
   "outputs": [
    {
     "data": {
      "text/plain": [
       "'C:\\\\Users\\\\nikit'"
      ]
     },
     "execution_count": 2,
     "metadata": {},
     "output_type": "execute_result"
    }
   ],
   "source": [
    "pwd"
   ]
  },
  {
   "cell_type": "code",
   "execution_count": 3,
   "id": "e574514c",
   "metadata": {},
   "outputs": [
    {
     "name": "stdout",
     "output_type": "stream",
     "text": [
      "C:\\Users\\nikit\\Advanced Data Science\n"
     ]
    }
   ],
   "source": [
    "cd Advanced Data Science"
   ]
  },
  {
   "cell_type": "markdown",
   "id": "33da52f9",
   "metadata": {},
   "source": [
    "# Creating list to append the twitter data"
   ]
  },
  {
   "cell_type": "code",
   "execution_count": 4,
   "id": "453edca4",
   "metadata": {},
   "outputs": [],
   "source": [
    "\n",
    "tweets_list = []\n"
   ]
  },
  {
   "cell_type": "markdown",
   "id": "09a46233",
   "metadata": {},
   "source": [
    "# Using TwitterSearchScraper to scrape data and append tweets to list"
   ]
  },
  {
   "cell_type": "code",
   "execution_count": 5,
   "id": "4426639d",
   "metadata": {},
   "outputs": [],
   "source": [
    "for i,tweet in enumerate(sntwitter.TwitterSearchScraper('#StandWithUkraine until:2022-04-28').get_items()):\n",
    "    \n",
    "    if i>1000:\n",
    "        \n",
    "        break\n",
    "    tweets_list.append([tweet.date, tweet.id, tweet.content, tweet.user.username, tweet.likeCount, tweet.user.displayname, tweet.lang])\n",
    "    "
   ]
  },
  {
   "cell_type": "markdown",
   "id": "9589e5c3",
   "metadata": {},
   "source": [
    "# Creating a dataframe from the tweets list above"
   ]
  },
  {
   "cell_type": "code",
   "execution_count": 6,
   "id": "502f079a",
   "metadata": {},
   "outputs": [],
   "source": [
    "tweets_df = pd.DataFrame(tweets_list, columns=['Datetime', 'Tweet Id', 'Text', 'Username', 'Like Count', 'Display Name', 'Language'])"
   ]
  },
  {
   "cell_type": "code",
   "execution_count": 7,
   "id": "54af9dc6",
   "metadata": {},
   "outputs": [
    {
     "data": {
      "text/html": [
       "<div>\n",
       "<style scoped>\n",
       "    .dataframe tbody tr th:only-of-type {\n",
       "        vertical-align: middle;\n",
       "    }\n",
       "\n",
       "    .dataframe tbody tr th {\n",
       "        vertical-align: top;\n",
       "    }\n",
       "\n",
       "    .dataframe thead th {\n",
       "        text-align: right;\n",
       "    }\n",
       "</style>\n",
       "<table border=\"1\" class=\"dataframe\">\n",
       "  <thead>\n",
       "    <tr style=\"text-align: right;\">\n",
       "      <th></th>\n",
       "      <th>Datetime</th>\n",
       "      <th>Tweet Id</th>\n",
       "      <th>Text</th>\n",
       "      <th>Username</th>\n",
       "      <th>Like Count</th>\n",
       "      <th>Display Name</th>\n",
       "      <th>Language</th>\n",
       "    </tr>\n",
       "  </thead>\n",
       "  <tbody>\n",
       "    <tr>\n",
       "      <th>0</th>\n",
       "      <td>2022-04-27 23:59:43+00:00</td>\n",
       "      <td>1519466351630376960</td>\n",
       "      <td>A new Ukrainian version of Austrian artist Gus...</td>\n",
       "      <td>Wildmoonsister</td>\n",
       "      <td>1</td>\n",
       "      <td>Robin Pierce</td>\n",
       "      <td>en</td>\n",
       "    </tr>\n",
       "    <tr>\n",
       "      <th>1</th>\n",
       "      <td>2022-04-27 23:59:24+00:00</td>\n",
       "      <td>1519466272509018118</td>\n",
       "      <td>#StandWithUkraine \\n#SlavaUkraini \\n#UkraineEU...</td>\n",
       "      <td>BlnBiker</td>\n",
       "      <td>0</td>\n",
       "      <td>Berlin Biker 🇦🇫 🇺🇦</td>\n",
       "      <td>und</td>\n",
       "    </tr>\n",
       "    <tr>\n",
       "      <th>2</th>\n",
       "      <td>2022-04-27 23:59:00+00:00</td>\n",
       "      <td>1519466173385277440</td>\n",
       "      <td>💔\\n#StandUpForUkraine\\n#StandWithUkraine🇺🇦🌻 ht...</td>\n",
       "      <td>polarbear_2017</td>\n",
       "      <td>0</td>\n",
       "      <td>polarbear</td>\n",
       "      <td>und</td>\n",
       "    </tr>\n",
       "    <tr>\n",
       "      <th>3</th>\n",
       "      <td>2022-04-27 23:58:42+00:00</td>\n",
       "      <td>1519466095110893571</td>\n",
       "      <td>🇷🇺claims that it \"evacuated\" more than 1 milli...</td>\n",
       "      <td>YGorodnichenko</td>\n",
       "      <td>21</td>\n",
       "      <td>Yuriy Gorodnichenko</td>\n",
       "      <td>und</td>\n",
       "    </tr>\n",
       "    <tr>\n",
       "      <th>4</th>\n",
       "      <td>2022-04-27 23:58:34+00:00</td>\n",
       "      <td>1519466061476900865</td>\n",
       "      <td>@DefenceU #StandWithUkraine</td>\n",
       "      <td>Julian91911</td>\n",
       "      <td>0</td>\n",
       "      <td>Julian 🇺🇦 I stand with Ukraine! 🇺🇦</td>\n",
       "      <td>und</td>\n",
       "    </tr>\n",
       "    <tr>\n",
       "      <th>...</th>\n",
       "      <td>...</td>\n",
       "      <td>...</td>\n",
       "      <td>...</td>\n",
       "      <td>...</td>\n",
       "      <td>...</td>\n",
       "      <td>...</td>\n",
       "      <td>...</td>\n",
       "    </tr>\n",
       "    <tr>\n",
       "      <th>996</th>\n",
       "      <td>2022-04-27 19:55:46+00:00</td>\n",
       "      <td>1519404961125261315</td>\n",
       "      <td>@donaldtuskEPP That claim is obviously falls. ...</td>\n",
       "      <td>Angel0573</td>\n",
       "      <td>0</td>\n",
       "      <td>Christian Kurek</td>\n",
       "      <td>en</td>\n",
       "    </tr>\n",
       "    <tr>\n",
       "      <th>997</th>\n",
       "      <td>2022-04-27 19:55:34+00:00</td>\n",
       "      <td>1519404911271763970</td>\n",
       "      <td>Pro-#Ukrainian protest in occupied #Kherson. B...</td>\n",
       "      <td>ArmedMaidan</td>\n",
       "      <td>14</td>\n",
       "      <td>🇺🇦Ukraine Resists: News From a Genocidal War</td>\n",
       "      <td>en</td>\n",
       "    </tr>\n",
       "    <tr>\n",
       "      <th>998</th>\n",
       "      <td>2022-04-27 19:55:12+00:00</td>\n",
       "      <td>1519404819458441217</td>\n",
       "      <td>russian war crimes must be stopped. Close our ...</td>\n",
       "      <td>UnChat88520796</td>\n",
       "      <td>0</td>\n",
       "      <td>UnChat</td>\n",
       "      <td>en</td>\n",
       "    </tr>\n",
       "    <tr>\n",
       "      <th>999</th>\n",
       "      <td>2022-04-27 19:54:59+00:00</td>\n",
       "      <td>1519404761832902660</td>\n",
       "      <td>💙💛All sales support Ukraine.\\n\\nMint at: https...</td>\n",
       "      <td>BOCS_NFTmint</td>\n",
       "      <td>3</td>\n",
       "      <td>BOCS</td>\n",
       "      <td>en</td>\n",
       "    </tr>\n",
       "    <tr>\n",
       "      <th>1000</th>\n",
       "      <td>2022-04-27 19:54:28+00:00</td>\n",
       "      <td>1519404634615558145</td>\n",
       "      <td>As for music - I listen to BTS, almost without...</td>\n",
       "      <td>uarmy_bts</td>\n",
       "      <td>7</td>\n",
       "      <td>ᴮᴱ BTS Ukraine⁷</td>\n",
       "      <td>en</td>\n",
       "    </tr>\n",
       "  </tbody>\n",
       "</table>\n",
       "<p>1001 rows × 7 columns</p>\n",
       "</div>"
      ],
      "text/plain": [
       "                      Datetime             Tweet Id  \\\n",
       "0    2022-04-27 23:59:43+00:00  1519466351630376960   \n",
       "1    2022-04-27 23:59:24+00:00  1519466272509018118   \n",
       "2    2022-04-27 23:59:00+00:00  1519466173385277440   \n",
       "3    2022-04-27 23:58:42+00:00  1519466095110893571   \n",
       "4    2022-04-27 23:58:34+00:00  1519466061476900865   \n",
       "...                        ...                  ...   \n",
       "996  2022-04-27 19:55:46+00:00  1519404961125261315   \n",
       "997  2022-04-27 19:55:34+00:00  1519404911271763970   \n",
       "998  2022-04-27 19:55:12+00:00  1519404819458441217   \n",
       "999  2022-04-27 19:54:59+00:00  1519404761832902660   \n",
       "1000 2022-04-27 19:54:28+00:00  1519404634615558145   \n",
       "\n",
       "                                                   Text        Username  \\\n",
       "0     A new Ukrainian version of Austrian artist Gus...  Wildmoonsister   \n",
       "1     #StandWithUkraine \\n#SlavaUkraini \\n#UkraineEU...        BlnBiker   \n",
       "2     💔\\n#StandUpForUkraine\\n#StandWithUkraine🇺🇦🌻 ht...  polarbear_2017   \n",
       "3     🇷🇺claims that it \"evacuated\" more than 1 milli...  YGorodnichenko   \n",
       "4                           @DefenceU #StandWithUkraine     Julian91911   \n",
       "...                                                 ...             ...   \n",
       "996   @donaldtuskEPP That claim is obviously falls. ...       Angel0573   \n",
       "997   Pro-#Ukrainian protest in occupied #Kherson. B...     ArmedMaidan   \n",
       "998   russian war crimes must be stopped. Close our ...  UnChat88520796   \n",
       "999   💙💛All sales support Ukraine.\\n\\nMint at: https...    BOCS_NFTmint   \n",
       "1000  As for music - I listen to BTS, almost without...       uarmy_bts   \n",
       "\n",
       "      Like Count                                  Display Name Language  \n",
       "0              1                                  Robin Pierce       en  \n",
       "1              0                            Berlin Biker 🇦🇫 🇺🇦      und  \n",
       "2              0                                     polarbear      und  \n",
       "3             21                           Yuriy Gorodnichenko      und  \n",
       "4              0            Julian 🇺🇦 I stand with Ukraine! 🇺🇦      und  \n",
       "...          ...                                           ...      ...  \n",
       "996            0                               Christian Kurek       en  \n",
       "997           14  🇺🇦Ukraine Resists: News From a Genocidal War       en  \n",
       "998            0                                        UnChat       en  \n",
       "999            3                                          BOCS       en  \n",
       "1000           7                               ᴮᴱ BTS Ukraine⁷       en  \n",
       "\n",
       "[1001 rows x 7 columns]"
      ]
     },
     "execution_count": 7,
     "metadata": {},
     "output_type": "execute_result"
    }
   ],
   "source": [
    "tweets_df"
   ]
  },
  {
   "cell_type": "markdown",
   "id": "50456709",
   "metadata": {},
   "source": [
    "# Exporting data in CSV File from dataframe:"
   ]
  },
  {
   "cell_type": "code",
   "execution_count": 8,
   "id": "a96ff164",
   "metadata": {},
   "outputs": [],
   "source": [
    "tweets_df.to_csv('StandWithUkraine.csv')"
   ]
  }
 ],
 "metadata": {
  "kernelspec": {
   "display_name": "Python 3 (ipykernel)",
   "language": "python",
   "name": "python3"
  },
  "language_info": {
   "codemirror_mode": {
    "name": "ipython",
    "version": 3
   },
   "file_extension": ".py",
   "mimetype": "text/x-python",
   "name": "python",
   "nbconvert_exporter": "python",
   "pygments_lexer": "ipython3",
   "version": "3.9.7"
  }
 },
 "nbformat": 4,
 "nbformat_minor": 5
}
