{
 "cells": [
  {
   "cell_type": "markdown",
   "id": "732de9c7",
   "metadata": {},
   "source": [
    "# **Course Name: INFO7390-Advances-In-Data-Sciences-And-Architecture**\n",
    "\n",
    "### Submitted by -\n",
    "* Name - Nikita Gaurihar\n",
    "* Nuid - 002980962\n",
    "___________________________________________________________________________\n",
    " \n",
    "## **Assignment 1** - KMeans Clustering a without Machine Learning Libraries in Python\n",
    "\n",
    "\n",
    "### **Abstract** \n",
    "In order to provide a better customer service, Credit card companies tend to offer upgraded packages on their credit card plans. However, first they need more information about their premium customers. Thus, this projects focuses on dividing the customer population into clusters depending upon factors like their 'Credit Limit' and 'Payments' made.\n",
    "\n",
    "\n",
    "### **Variables information**\n",
    "* Downloaded this dataset from Kaggle website. The link is - https://www.kaggle.com/venky12347/credit-card-usage-k-means-clustering\n",
    "* The dataset contains customer data who enrolled for credit card. It conatins information related to the following nine variables - \n",
    "1. CUST_ID\n",
    "2. BALANCE\n",
    "3. PURCHASES\n",
    "4. CASH_ADVANCE\n",
    "5. PURCHASES_FREQUENCY\n",
    "6. PURCHASES_TRX\n",
    "7. CREDIT_LIMIT\n",
    "8. PAYMENTS\n",
    "9. MINIMUM_PAYMENTS \n",
    "\n",
    "---------------------------------------------------------------------------"
   ]
  },
  {
   "cell_type": "markdown",
   "id": "5a75c79d",
   "metadata": {},
   "source": [
    "# A. Importing necessary libraries:"
   ]
  },
  {
   "cell_type": "code",
   "execution_count": 236,
   "id": "e00e77da",
   "metadata": {},
   "outputs": [],
   "source": [
    "import pandas as pd\n",
    "import numpy as np\n",
    "import matplotlib.pyplot as plt\n",
    "import seaborn as sns\n",
    "import matplotlib.cm as cm\n",
    "%matplotlib inline"
   ]
  },
  {
   "cell_type": "markdown",
   "id": "1e80023f",
   "metadata": {},
   "source": [
    "# B. Importing dataset:"
   ]
  },
  {
   "cell_type": "code",
   "execution_count": 237,
   "id": "2b6fb855",
   "metadata": {},
   "outputs": [],
   "source": [
    "cluster = pd.read_csv(\"C:/Course Work/NEU Semester 2/Advanced Data Science/Assignment 01/CreditCardUsage.csv\")"
   ]
  },
  {
   "cell_type": "markdown",
   "id": "2453b561",
   "metadata": {},
   "source": [
    "##### **1. Displaying dataset**"
   ]
  },
  {
   "cell_type": "code",
   "execution_count": 238,
   "id": "e7cdc081",
   "metadata": {},
   "outputs": [
    {
     "data": {
      "text/html": [
       "<div>\n",
       "<style scoped>\n",
       "    .dataframe tbody tr th:only-of-type {\n",
       "        vertical-align: middle;\n",
       "    }\n",
       "\n",
       "    .dataframe tbody tr th {\n",
       "        vertical-align: top;\n",
       "    }\n",
       "\n",
       "    .dataframe thead th {\n",
       "        text-align: right;\n",
       "    }\n",
       "</style>\n",
       "<table border=\"1\" class=\"dataframe\">\n",
       "  <thead>\n",
       "    <tr style=\"text-align: right;\">\n",
       "      <th></th>\n",
       "      <th>CUST_ID</th>\n",
       "      <th>BALANCE</th>\n",
       "      <th>PURCHASES</th>\n",
       "      <th>CASH_ADVANCE</th>\n",
       "      <th>PURCHASES_FREQUENCY</th>\n",
       "      <th>PURCHASES_TRX</th>\n",
       "      <th>CREDIT_LIMIT</th>\n",
       "      <th>PAYMENTS</th>\n",
       "      <th>MINIMUM_PAYMENTS</th>\n",
       "    </tr>\n",
       "  </thead>\n",
       "  <tbody>\n",
       "    <tr>\n",
       "      <th>0</th>\n",
       "      <td>1</td>\n",
       "      <td>40.900749</td>\n",
       "      <td>95.40</td>\n",
       "      <td>0.000000</td>\n",
       "      <td>0.166667</td>\n",
       "      <td>2</td>\n",
       "      <td>1000.0</td>\n",
       "      <td>201.802084</td>\n",
       "      <td>139.509787</td>\n",
       "    </tr>\n",
       "    <tr>\n",
       "      <th>1</th>\n",
       "      <td>2</td>\n",
       "      <td>3202.467416</td>\n",
       "      <td>0.00</td>\n",
       "      <td>6442.945483</td>\n",
       "      <td>0.000000</td>\n",
       "      <td>0</td>\n",
       "      <td>7000.0</td>\n",
       "      <td>4103.032597</td>\n",
       "      <td>1072.340217</td>\n",
       "    </tr>\n",
       "    <tr>\n",
       "      <th>2</th>\n",
       "      <td>3</td>\n",
       "      <td>2495.148862</td>\n",
       "      <td>773.17</td>\n",
       "      <td>0.000000</td>\n",
       "      <td>1.000000</td>\n",
       "      <td>12</td>\n",
       "      <td>7500.0</td>\n",
       "      <td>622.066742</td>\n",
       "      <td>627.284787</td>\n",
       "    </tr>\n",
       "    <tr>\n",
       "      <th>3</th>\n",
       "      <td>4</td>\n",
       "      <td>1666.670542</td>\n",
       "      <td>1499.00</td>\n",
       "      <td>205.788017</td>\n",
       "      <td>0.083333</td>\n",
       "      <td>1</td>\n",
       "      <td>7500.0</td>\n",
       "      <td>0.000000</td>\n",
       "      <td>NaN</td>\n",
       "    </tr>\n",
       "    <tr>\n",
       "      <th>4</th>\n",
       "      <td>5</td>\n",
       "      <td>817.714335</td>\n",
       "      <td>16.00</td>\n",
       "      <td>0.000000</td>\n",
       "      <td>0.083333</td>\n",
       "      <td>1</td>\n",
       "      <td>1200.0</td>\n",
       "      <td>678.334763</td>\n",
       "      <td>244.791237</td>\n",
       "    </tr>\n",
       "  </tbody>\n",
       "</table>\n",
       "</div>"
      ],
      "text/plain": [
       "   CUST_ID      BALANCE  PURCHASES  CASH_ADVANCE  PURCHASES_FREQUENCY  \\\n",
       "0        1    40.900749      95.40      0.000000             0.166667   \n",
       "1        2  3202.467416       0.00   6442.945483             0.000000   \n",
       "2        3  2495.148862     773.17      0.000000             1.000000   \n",
       "3        4  1666.670542    1499.00    205.788017             0.083333   \n",
       "4        5   817.714335      16.00      0.000000             0.083333   \n",
       "\n",
       "   PURCHASES_TRX  CREDIT_LIMIT     PAYMENTS  MINIMUM_PAYMENTS  \n",
       "0              2        1000.0   201.802084        139.509787  \n",
       "1              0        7000.0  4103.032597       1072.340217  \n",
       "2             12        7500.0   622.066742        627.284787  \n",
       "3              1        7500.0     0.000000               NaN  \n",
       "4              1        1200.0   678.334763        244.791237  "
      ]
     },
     "execution_count": 238,
     "metadata": {},
     "output_type": "execute_result"
    }
   ],
   "source": [
    "cluster.head(5)"
   ]
  },
  {
   "cell_type": "code",
   "execution_count": 239,
   "id": "a690087a",
   "metadata": {},
   "outputs": [
    {
     "data": {
      "text/plain": [
       "(8949, 9)"
      ]
     },
     "execution_count": 239,
     "metadata": {},
     "output_type": "execute_result"
    }
   ],
   "source": [
    "cluster.shape"
   ]
  },
  {
   "cell_type": "markdown",
   "id": "6eb7c82f",
   "metadata": {},
   "source": [
    "##### **Interpretation:** There are 8949 rows and 9 different attributes in this dataset"
   ]
  },
  {
   "cell_type": "code",
   "execution_count": 240,
   "id": "797e8e97",
   "metadata": {},
   "outputs": [
    {
     "data": {
      "text/html": [
       "<div>\n",
       "<style scoped>\n",
       "    .dataframe tbody tr th:only-of-type {\n",
       "        vertical-align: middle;\n",
       "    }\n",
       "\n",
       "    .dataframe tbody tr th {\n",
       "        vertical-align: top;\n",
       "    }\n",
       "\n",
       "    .dataframe thead th {\n",
       "        text-align: right;\n",
       "    }\n",
       "</style>\n",
       "<table border=\"1\" class=\"dataframe\">\n",
       "  <thead>\n",
       "    <tr style=\"text-align: right;\">\n",
       "      <th></th>\n",
       "      <th>CUST_ID</th>\n",
       "      <th>BALANCE</th>\n",
       "      <th>PURCHASES</th>\n",
       "      <th>CASH_ADVANCE</th>\n",
       "      <th>PURCHASES_FREQUENCY</th>\n",
       "      <th>PURCHASES_TRX</th>\n",
       "      <th>CREDIT_LIMIT</th>\n",
       "      <th>PAYMENTS</th>\n",
       "      <th>MINIMUM_PAYMENTS</th>\n",
       "    </tr>\n",
       "  </thead>\n",
       "  <tbody>\n",
       "    <tr>\n",
       "      <th>count</th>\n",
       "      <td>8949.000000</td>\n",
       "      <td>8949.000000</td>\n",
       "      <td>8949.000000</td>\n",
       "      <td>8949.000000</td>\n",
       "      <td>8949.000000</td>\n",
       "      <td>8949.000000</td>\n",
       "      <td>8949.000000</td>\n",
       "      <td>8949.000000</td>\n",
       "      <td>8636.000000</td>\n",
       "    </tr>\n",
       "    <tr>\n",
       "      <th>mean</th>\n",
       "      <td>4475.000000</td>\n",
       "      <td>1564.647593</td>\n",
       "      <td>1003.316936</td>\n",
       "      <td>978.959616</td>\n",
       "      <td>0.490405</td>\n",
       "      <td>14.711476</td>\n",
       "      <td>4494.449450</td>\n",
       "      <td>1733.336511</td>\n",
       "      <td>864.304943</td>\n",
       "    </tr>\n",
       "    <tr>\n",
       "      <th>std</th>\n",
       "      <td>2583.498113</td>\n",
       "      <td>2081.584016</td>\n",
       "      <td>2136.727848</td>\n",
       "      <td>2097.264344</td>\n",
       "      <td>0.401360</td>\n",
       "      <td>24.858552</td>\n",
       "      <td>3638.815725</td>\n",
       "      <td>2895.168146</td>\n",
       "      <td>2372.566350</td>\n",
       "    </tr>\n",
       "    <tr>\n",
       "      <th>min</th>\n",
       "      <td>1.000000</td>\n",
       "      <td>0.000000</td>\n",
       "      <td>0.000000</td>\n",
       "      <td>0.000000</td>\n",
       "      <td>0.000000</td>\n",
       "      <td>0.000000</td>\n",
       "      <td>50.000000</td>\n",
       "      <td>0.000000</td>\n",
       "      <td>0.019163</td>\n",
       "    </tr>\n",
       "    <tr>\n",
       "      <th>25%</th>\n",
       "      <td>2238.000000</td>\n",
       "      <td>128.365782</td>\n",
       "      <td>39.800000</td>\n",
       "      <td>0.000000</td>\n",
       "      <td>0.083333</td>\n",
       "      <td>1.000000</td>\n",
       "      <td>1600.000000</td>\n",
       "      <td>383.282850</td>\n",
       "      <td>169.163545</td>\n",
       "    </tr>\n",
       "    <tr>\n",
       "      <th>50%</th>\n",
       "      <td>4475.000000</td>\n",
       "      <td>873.680279</td>\n",
       "      <td>361.490000</td>\n",
       "      <td>0.000000</td>\n",
       "      <td>0.500000</td>\n",
       "      <td>7.000000</td>\n",
       "      <td>3000.000000</td>\n",
       "      <td>857.062706</td>\n",
       "      <td>312.452292</td>\n",
       "    </tr>\n",
       "    <tr>\n",
       "      <th>75%</th>\n",
       "      <td>6712.000000</td>\n",
       "      <td>2054.372848</td>\n",
       "      <td>1110.170000</td>\n",
       "      <td>1113.868654</td>\n",
       "      <td>0.916667</td>\n",
       "      <td>17.000000</td>\n",
       "      <td>6500.000000</td>\n",
       "      <td>1901.279320</td>\n",
       "      <td>825.496463</td>\n",
       "    </tr>\n",
       "    <tr>\n",
       "      <th>max</th>\n",
       "      <td>8949.000000</td>\n",
       "      <td>19043.138560</td>\n",
       "      <td>49039.570000</td>\n",
       "      <td>47137.211760</td>\n",
       "      <td>1.000000</td>\n",
       "      <td>358.000000</td>\n",
       "      <td>30000.000000</td>\n",
       "      <td>50721.483360</td>\n",
       "      <td>76406.207520</td>\n",
       "    </tr>\n",
       "  </tbody>\n",
       "</table>\n",
       "</div>"
      ],
      "text/plain": [
       "           CUST_ID       BALANCE     PURCHASES  CASH_ADVANCE  \\\n",
       "count  8949.000000   8949.000000   8949.000000   8949.000000   \n",
       "mean   4475.000000   1564.647593   1003.316936    978.959616   \n",
       "std    2583.498113   2081.584016   2136.727848   2097.264344   \n",
       "min       1.000000      0.000000      0.000000      0.000000   \n",
       "25%    2238.000000    128.365782     39.800000      0.000000   \n",
       "50%    4475.000000    873.680279    361.490000      0.000000   \n",
       "75%    6712.000000   2054.372848   1110.170000   1113.868654   \n",
       "max    8949.000000  19043.138560  49039.570000  47137.211760   \n",
       "\n",
       "       PURCHASES_FREQUENCY  PURCHASES_TRX  CREDIT_LIMIT      PAYMENTS  \\\n",
       "count          8949.000000    8949.000000   8949.000000   8949.000000   \n",
       "mean              0.490405      14.711476   4494.449450   1733.336511   \n",
       "std               0.401360      24.858552   3638.815725   2895.168146   \n",
       "min               0.000000       0.000000     50.000000      0.000000   \n",
       "25%               0.083333       1.000000   1600.000000    383.282850   \n",
       "50%               0.500000       7.000000   3000.000000    857.062706   \n",
       "75%               0.916667      17.000000   6500.000000   1901.279320   \n",
       "max               1.000000     358.000000  30000.000000  50721.483360   \n",
       "\n",
       "       MINIMUM_PAYMENTS  \n",
       "count       8636.000000  \n",
       "mean         864.304943  \n",
       "std         2372.566350  \n",
       "min            0.019163  \n",
       "25%          169.163545  \n",
       "50%          312.452292  \n",
       "75%          825.496463  \n",
       "max        76406.207520  "
      ]
     },
     "execution_count": 240,
     "metadata": {},
     "output_type": "execute_result"
    }
   ],
   "source": [
    "cluster.describe()"
   ]
  },
  {
   "cell_type": "code",
   "execution_count": 241,
   "id": "d4393395",
   "metadata": {},
   "outputs": [
    {
     "name": "stdout",
     "output_type": "stream",
     "text": [
      "<class 'pandas.core.frame.DataFrame'>\n",
      "RangeIndex: 8949 entries, 0 to 8948\n",
      "Data columns (total 9 columns):\n",
      " #   Column               Non-Null Count  Dtype  \n",
      "---  ------               --------------  -----  \n",
      " 0   CUST_ID              8949 non-null   int64  \n",
      " 1   BALANCE              8949 non-null   float64\n",
      " 2   PURCHASES            8949 non-null   float64\n",
      " 3   CASH_ADVANCE         8949 non-null   float64\n",
      " 4   PURCHASES_FREQUENCY  8949 non-null   float64\n",
      " 5   PURCHASES_TRX        8949 non-null   int64  \n",
      " 6   CREDIT_LIMIT         8949 non-null   float64\n",
      " 7   PAYMENTS             8949 non-null   float64\n",
      " 8   MINIMUM_PAYMENTS     8636 non-null   float64\n",
      "dtypes: float64(7), int64(2)\n",
      "memory usage: 629.4 KB\n"
     ]
    }
   ],
   "source": [
    "cluster.info()"
   ]
  },
  {
   "cell_type": "markdown",
   "id": "b5b32961",
   "metadata": {},
   "source": [
    "#### **Interpretation: Information regarding datatype and number of non-zero values in every column is mentioned above**"
   ]
  },
  {
   "cell_type": "markdown",
   "id": "f25438b5",
   "metadata": {},
   "source": [
    "#### **2. Checking null values in the dataset:**"
   ]
  },
  {
   "cell_type": "code",
   "execution_count": 242,
   "id": "6c77a245",
   "metadata": {},
   "outputs": [
    {
     "data": {
      "text/plain": [
       "<AxesSubplot:xlabel='Percent missing', ylabel='Feature'>"
      ]
     },
     "execution_count": 242,
     "metadata": {},
     "output_type": "execute_result"
    },
    {
     "data": {
      "image/png": "[encoded data removed]",
      "text/plain": [
       "<Figure size 576x720 with 1 Axes>"
      ]
     },
     "metadata": {
      "needs_background": "light"
     },
     "output_type": "display_data"
    }
   ],
   "source": [
    "'''Calculate percentage null values for each column or feature'''\n",
    "\n",
    "null_vals = cluster.isnull().sum()/len(cluster)*100\n",
    "null_vals = pd.DataFrame(null_vals)\n",
    "null_vals.reset_index(inplace = True)\n",
    "null_vals.columns = [\"Feature\",\"Percent missing\"]\n",
    "plt.figure(figsize = (8,10))\n",
    "plt.xticks(rotation=45)\n",
    "sns.barplot(x = \"Percent missing\",y =\"Feature\",data = null_vals,orient = \"h\")\n"
   ]
  },
  {
   "cell_type": "code",
   "execution_count": 243,
   "id": "5d828718",
   "metadata": {},
   "outputs": [
    {
     "data": {
      "text/plain": [
       "CUST_ID                  0\n",
       "BALANCE                  0\n",
       "PURCHASES                0\n",
       "CASH_ADVANCE             0\n",
       "PURCHASES_FREQUENCY      0\n",
       "PURCHASES_TRX            0\n",
       "CREDIT_LIMIT             0\n",
       "PAYMENTS                 0\n",
       "MINIMUM_PAYMENTS       313\n",
       "dtype: int64"
      ]
     },
     "execution_count": 243,
     "metadata": {},
     "output_type": "execute_result"
    }
   ],
   "source": [
    "cluster.isna().sum()"
   ]
  },
  {
   "cell_type": "markdown",
   "id": "6244f6d6",
   "metadata": {},
   "source": [
    "#### **Interpretation: Attibute -'MINIMUM_PAYMENTS' has 313 null values**"
   ]
  },
  {
   "cell_type": "code",
   "execution_count": 244,
   "id": "8f0ef87a",
   "metadata": {},
   "outputs": [
    {
     "data": {
      "text/plain": [
       "CUST_ID                  int64\n",
       "BALANCE                float64\n",
       "PURCHASES              float64\n",
       "CASH_ADVANCE           float64\n",
       "PURCHASES_FREQUENCY    float64\n",
       "PURCHASES_TRX            int64\n",
       "CREDIT_LIMIT           float64\n",
       "PAYMENTS               float64\n",
       "MINIMUM_PAYMENTS       float64\n",
       "dtype: object"
      ]
     },
     "execution_count": 244,
     "metadata": {},
     "output_type": "execute_result"
    }
   ],
   "source": [
    "cluster.dtypes"
   ]
  },
  {
   "cell_type": "markdown",
   "id": "6cc56c99",
   "metadata": {},
   "source": [
    "### **Interpretation:** \n",
    "##### The datatypes of all the attributes in the dataset are mentioned above. \n",
    "##### MINIMUM_PAYMENTS has float datatype, so replacing the null values with mean of that column."
   ]
  },
  {
   "cell_type": "code",
   "execution_count": 245,
   "id": "c3a27245",
   "metadata": {},
   "outputs": [
    {
     "data": {
      "text/html": [
       "<div>\n",
       "<style scoped>\n",
       "    .dataframe tbody tr th:only-of-type {\n",
       "        vertical-align: middle;\n",
       "    }\n",
       "\n",
       "    .dataframe tbody tr th {\n",
       "        vertical-align: top;\n",
       "    }\n",
       "\n",
       "    .dataframe thead th {\n",
       "        text-align: right;\n",
       "    }\n",
       "</style>\n",
       "<table border=\"1\" class=\"dataframe\">\n",
       "  <thead>\n",
       "    <tr style=\"text-align: right;\">\n",
       "      <th></th>\n",
       "      <th>MINIMUM_PAYMENTS</th>\n",
       "    </tr>\n",
       "  </thead>\n",
       "  <tbody>\n",
       "    <tr>\n",
       "      <th>0</th>\n",
       "      <td>139.509787</td>\n",
       "    </tr>\n",
       "    <tr>\n",
       "      <th>1</th>\n",
       "      <td>1072.340217</td>\n",
       "    </tr>\n",
       "    <tr>\n",
       "      <th>2</th>\n",
       "      <td>627.284787</td>\n",
       "    </tr>\n",
       "    <tr>\n",
       "      <th>3</th>\n",
       "      <td>NaN</td>\n",
       "    </tr>\n",
       "    <tr>\n",
       "      <th>4</th>\n",
       "      <td>244.791237</td>\n",
       "    </tr>\n",
       "    <tr>\n",
       "      <th>...</th>\n",
       "      <td>...</td>\n",
       "    </tr>\n",
       "    <tr>\n",
       "      <th>8944</th>\n",
       "      <td>48.886365</td>\n",
       "    </tr>\n",
       "    <tr>\n",
       "      <th>8945</th>\n",
       "      <td>NaN</td>\n",
       "    </tr>\n",
       "    <tr>\n",
       "      <th>8946</th>\n",
       "      <td>82.418369</td>\n",
       "    </tr>\n",
       "    <tr>\n",
       "      <th>8947</th>\n",
       "      <td>55.755628</td>\n",
       "    </tr>\n",
       "    <tr>\n",
       "      <th>8948</th>\n",
       "      <td>88.288956</td>\n",
       "    </tr>\n",
       "  </tbody>\n",
       "</table>\n",
       "<p>8949 rows × 1 columns</p>\n",
       "</div>"
      ],
      "text/plain": [
       "      MINIMUM_PAYMENTS\n",
       "0           139.509787\n",
       "1          1072.340217\n",
       "2           627.284787\n",
       "3                  NaN\n",
       "4           244.791237\n",
       "...                ...\n",
       "8944         48.886365\n",
       "8945               NaN\n",
       "8946         82.418369\n",
       "8947         55.755628\n",
       "8948         88.288956\n",
       "\n",
       "[8949 rows x 1 columns]"
      ]
     },
     "execution_count": 245,
     "metadata": {},
     "output_type": "execute_result"
    }
   ],
   "source": [
    "cluster[['MINIMUM_PAYMENTS']]"
   ]
  },
  {
   "cell_type": "code",
   "execution_count": 246,
   "id": "b00bafa2",
   "metadata": {},
   "outputs": [],
   "source": [
    "cluster[['MINIMUM_PAYMENTS']]=cluster[['MINIMUM_PAYMENTS']].replace(np.nan, cluster[['MINIMUM_PAYMENTS']].mean())"
   ]
  },
  {
   "cell_type": "code",
   "execution_count": 247,
   "id": "777a266d",
   "metadata": {},
   "outputs": [
    {
     "data": {
      "text/html": [
       "<div>\n",
       "<style scoped>\n",
       "    .dataframe tbody tr th:only-of-type {\n",
       "        vertical-align: middle;\n",
       "    }\n",
       "\n",
       "    .dataframe tbody tr th {\n",
       "        vertical-align: top;\n",
       "    }\n",
       "\n",
       "    .dataframe thead th {\n",
       "        text-align: right;\n",
       "    }\n",
       "</style>\n",
       "<table border=\"1\" class=\"dataframe\">\n",
       "  <thead>\n",
       "    <tr style=\"text-align: right;\">\n",
       "      <th></th>\n",
       "      <th>MINIMUM_PAYMENTS</th>\n",
       "    </tr>\n",
       "  </thead>\n",
       "  <tbody>\n",
       "    <tr>\n",
       "      <th>0</th>\n",
       "      <td>139.509787</td>\n",
       "    </tr>\n",
       "    <tr>\n",
       "      <th>1</th>\n",
       "      <td>1072.340217</td>\n",
       "    </tr>\n",
       "    <tr>\n",
       "      <th>2</th>\n",
       "      <td>627.284787</td>\n",
       "    </tr>\n",
       "    <tr>\n",
       "      <th>3</th>\n",
       "      <td>864.304943</td>\n",
       "    </tr>\n",
       "    <tr>\n",
       "      <th>4</th>\n",
       "      <td>244.791237</td>\n",
       "    </tr>\n",
       "    <tr>\n",
       "      <th>...</th>\n",
       "      <td>...</td>\n",
       "    </tr>\n",
       "    <tr>\n",
       "      <th>8944</th>\n",
       "      <td>48.886365</td>\n",
       "    </tr>\n",
       "    <tr>\n",
       "      <th>8945</th>\n",
       "      <td>864.304943</td>\n",
       "    </tr>\n",
       "    <tr>\n",
       "      <th>8946</th>\n",
       "      <td>82.418369</td>\n",
       "    </tr>\n",
       "    <tr>\n",
       "      <th>8947</th>\n",
       "      <td>55.755628</td>\n",
       "    </tr>\n",
       "    <tr>\n",
       "      <th>8948</th>\n",
       "      <td>88.288956</td>\n",
       "    </tr>\n",
       "  </tbody>\n",
       "</table>\n",
       "<p>8949 rows × 1 columns</p>\n",
       "</div>"
      ],
      "text/plain": [
       "      MINIMUM_PAYMENTS\n",
       "0           139.509787\n",
       "1          1072.340217\n",
       "2           627.284787\n",
       "3           864.304943\n",
       "4           244.791237\n",
       "...                ...\n",
       "8944         48.886365\n",
       "8945        864.304943\n",
       "8946         82.418369\n",
       "8947         55.755628\n",
       "8948         88.288956\n",
       "\n",
       "[8949 rows x 1 columns]"
      ]
     },
     "execution_count": 247,
     "metadata": {},
     "output_type": "execute_result"
    }
   ],
   "source": [
    "cluster[['MINIMUM_PAYMENTS']]"
   ]
  },
  {
   "cell_type": "code",
   "execution_count": 248,
   "id": "ed7c70d6",
   "metadata": {},
   "outputs": [
    {
     "name": "stdout",
     "output_type": "stream",
     "text": [
      "CUST_ID :  8949 labels\n",
      "BALANCE :  8870 labels\n",
      "PURCHASES :  6203 labels\n",
      "CASH_ADVANCE :  4322 labels\n",
      "PURCHASES_FREQUENCY :  47 labels\n",
      "PURCHASES_TRX :  173 labels\n",
      "CREDIT_LIMIT :  205 labels\n",
      "PAYMENTS :  8710 labels\n",
      "MINIMUM_PAYMENTS :  8636 labels\n"
     ]
    }
   ],
   "source": [
    "for col in cluster.columns:\n",
    "    print(col, ': ', len(cluster[col].unique()), 'labels')"
   ]
  },
  {
   "cell_type": "code",
   "execution_count": 249,
   "id": "44dcc55c",
   "metadata": {},
   "outputs": [
    {
     "name": "stdout",
     "output_type": "stream",
     "text": [
      "(8949, 9)\n"
     ]
    },
    {
     "data": {
      "text/html": [
       "<div>\n",
       "<style scoped>\n",
       "    .dataframe tbody tr th:only-of-type {\n",
       "        vertical-align: middle;\n",
       "    }\n",
       "\n",
       "    .dataframe tbody tr th {\n",
       "        vertical-align: top;\n",
       "    }\n",
       "\n",
       "    .dataframe thead th {\n",
       "        text-align: right;\n",
       "    }\n",
       "</style>\n",
       "<table border=\"1\" class=\"dataframe\">\n",
       "  <thead>\n",
       "    <tr style=\"text-align: right;\">\n",
       "      <th></th>\n",
       "      <th>CUST_ID</th>\n",
       "      <th>BALANCE</th>\n",
       "      <th>PURCHASES</th>\n",
       "      <th>CASH_ADVANCE</th>\n",
       "      <th>PURCHASES_FREQUENCY</th>\n",
       "      <th>PURCHASES_TRX</th>\n",
       "      <th>CREDIT_LIMIT</th>\n",
       "      <th>PAYMENTS</th>\n",
       "      <th>MINIMUM_PAYMENTS</th>\n",
       "    </tr>\n",
       "  </thead>\n",
       "  <tbody>\n",
       "    <tr>\n",
       "      <th>0</th>\n",
       "      <td>1</td>\n",
       "      <td>40.900749</td>\n",
       "      <td>95.4</td>\n",
       "      <td>0.000000</td>\n",
       "      <td>0.166667</td>\n",
       "      <td>2</td>\n",
       "      <td>1000.0</td>\n",
       "      <td>201.802084</td>\n",
       "      <td>139.509787</td>\n",
       "    </tr>\n",
       "    <tr>\n",
       "      <th>1</th>\n",
       "      <td>2</td>\n",
       "      <td>3202.467416</td>\n",
       "      <td>0.0</td>\n",
       "      <td>6442.945483</td>\n",
       "      <td>0.000000</td>\n",
       "      <td>0</td>\n",
       "      <td>7000.0</td>\n",
       "      <td>4103.032597</td>\n",
       "      <td>1072.340217</td>\n",
       "    </tr>\n",
       "  </tbody>\n",
       "</table>\n",
       "</div>"
      ],
      "text/plain": [
       "   CUST_ID      BALANCE  PURCHASES  CASH_ADVANCE  PURCHASES_FREQUENCY  \\\n",
       "0        1    40.900749       95.4      0.000000             0.166667   \n",
       "1        2  3202.467416        0.0   6442.945483             0.000000   \n",
       "\n",
       "   PURCHASES_TRX  CREDIT_LIMIT     PAYMENTS  MINIMUM_PAYMENTS  \n",
       "0              2        1000.0   201.802084        139.509787  \n",
       "1              0        7000.0  4103.032597       1072.340217  "
      ]
     },
     "execution_count": 249,
     "metadata": {},
     "output_type": "execute_result"
    }
   ],
   "source": [
    "'''Drop duplicated rows'''\n",
    "\n",
    "cluster2 = cluster.drop_duplicates()\n",
    "print(cluster2.shape)\n",
    "cluster2.head(2)"
   ]
  },
  {
   "cell_type": "markdown",
   "id": "aad2ca5a",
   "metadata": {},
   "source": [
    "# C. Considering only those columns to consider for k-means clustering"
   ]
  },
  {
   "cell_type": "code",
   "execution_count": 250,
   "id": "488e8cd8",
   "metadata": {},
   "outputs": [
    {
     "name": "stdout",
     "output_type": "stream",
     "text": [
      "(8949, 4)\n"
     ]
    },
    {
     "data": {
      "text/html": [
       "<div>\n",
       "<style scoped>\n",
       "    .dataframe tbody tr th:only-of-type {\n",
       "        vertical-align: middle;\n",
       "    }\n",
       "\n",
       "    .dataframe tbody tr th {\n",
       "        vertical-align: top;\n",
       "    }\n",
       "\n",
       "    .dataframe thead th {\n",
       "        text-align: right;\n",
       "    }\n",
       "</style>\n",
       "<table border=\"1\" class=\"dataframe\">\n",
       "  <thead>\n",
       "    <tr style=\"text-align: right;\">\n",
       "      <th></th>\n",
       "      <th>CUST_ID</th>\n",
       "      <th>BALANCE</th>\n",
       "      <th>CREDIT_LIMIT</th>\n",
       "      <th>PAYMENTS</th>\n",
       "    </tr>\n",
       "  </thead>\n",
       "  <tbody>\n",
       "    <tr>\n",
       "      <th>0</th>\n",
       "      <td>1</td>\n",
       "      <td>40.900749</td>\n",
       "      <td>1000.0</td>\n",
       "      <td>201.802084</td>\n",
       "    </tr>\n",
       "    <tr>\n",
       "      <th>1</th>\n",
       "      <td>2</td>\n",
       "      <td>3202.467416</td>\n",
       "      <td>7000.0</td>\n",
       "      <td>4103.032597</td>\n",
       "    </tr>\n",
       "  </tbody>\n",
       "</table>\n",
       "</div>"
      ],
      "text/plain": [
       "   CUST_ID      BALANCE  CREDIT_LIMIT     PAYMENTS\n",
       "0        1    40.900749        1000.0   201.802084\n",
       "1        2  3202.467416        7000.0  4103.032597"
      ]
     },
     "execution_count": 250,
     "metadata": {},
     "output_type": "execute_result"
    }
   ],
   "source": [
    "'''Select columns you need'''\n",
    "\n",
    "df = cluster2 [['CUST_ID','BALANCE','CREDIT_LIMIT','PAYMENTS']]\n",
    "print(df.shape)\n",
    "df.head(2)"
   ]
  },
  {
   "cell_type": "code",
   "execution_count": 251,
   "id": "ee4ff5cb",
   "metadata": {},
   "outputs": [
    {
     "data": {
      "text/html": [
       "<div>\n",
       "<style scoped>\n",
       "    .dataframe tbody tr th:only-of-type {\n",
       "        vertical-align: middle;\n",
       "    }\n",
       "\n",
       "    .dataframe tbody tr th {\n",
       "        vertical-align: top;\n",
       "    }\n",
       "\n",
       "    .dataframe thead th {\n",
       "        text-align: right;\n",
       "    }\n",
       "</style>\n",
       "<table border=\"1\" class=\"dataframe\">\n",
       "  <thead>\n",
       "    <tr style=\"text-align: right;\">\n",
       "      <th></th>\n",
       "      <th>CUST_ID</th>\n",
       "      <th>BALANCE</th>\n",
       "      <th>CREDIT_LIMIT</th>\n",
       "      <th>PAYMENTS</th>\n",
       "    </tr>\n",
       "  </thead>\n",
       "  <tbody>\n",
       "    <tr>\n",
       "      <th>count</th>\n",
       "      <td>8949.000000</td>\n",
       "      <td>8949.000000</td>\n",
       "      <td>8949.000000</td>\n",
       "      <td>8949.000000</td>\n",
       "    </tr>\n",
       "    <tr>\n",
       "      <th>mean</th>\n",
       "      <td>4475.000000</td>\n",
       "      <td>1564.647593</td>\n",
       "      <td>4494.449450</td>\n",
       "      <td>1733.336511</td>\n",
       "    </tr>\n",
       "    <tr>\n",
       "      <th>std</th>\n",
       "      <td>2583.498113</td>\n",
       "      <td>2081.584016</td>\n",
       "      <td>3638.815725</td>\n",
       "      <td>2895.168146</td>\n",
       "    </tr>\n",
       "    <tr>\n",
       "      <th>min</th>\n",
       "      <td>1.000000</td>\n",
       "      <td>0.000000</td>\n",
       "      <td>50.000000</td>\n",
       "      <td>0.000000</td>\n",
       "    </tr>\n",
       "    <tr>\n",
       "      <th>25%</th>\n",
       "      <td>2238.000000</td>\n",
       "      <td>128.365782</td>\n",
       "      <td>1600.000000</td>\n",
       "      <td>383.282850</td>\n",
       "    </tr>\n",
       "    <tr>\n",
       "      <th>50%</th>\n",
       "      <td>4475.000000</td>\n",
       "      <td>873.680279</td>\n",
       "      <td>3000.000000</td>\n",
       "      <td>857.062706</td>\n",
       "    </tr>\n",
       "    <tr>\n",
       "      <th>75%</th>\n",
       "      <td>6712.000000</td>\n",
       "      <td>2054.372848</td>\n",
       "      <td>6500.000000</td>\n",
       "      <td>1901.279320</td>\n",
       "    </tr>\n",
       "    <tr>\n",
       "      <th>max</th>\n",
       "      <td>8949.000000</td>\n",
       "      <td>19043.138560</td>\n",
       "      <td>30000.000000</td>\n",
       "      <td>50721.483360</td>\n",
       "    </tr>\n",
       "  </tbody>\n",
       "</table>\n",
       "</div>"
      ],
      "text/plain": [
       "           CUST_ID       BALANCE  CREDIT_LIMIT      PAYMENTS\n",
       "count  8949.000000   8949.000000   8949.000000   8949.000000\n",
       "mean   4475.000000   1564.647593   4494.449450   1733.336511\n",
       "std    2583.498113   2081.584016   3638.815725   2895.168146\n",
       "min       1.000000      0.000000     50.000000      0.000000\n",
       "25%    2238.000000    128.365782   1600.000000    383.282850\n",
       "50%    4475.000000    873.680279   3000.000000    857.062706\n",
       "75%    6712.000000   2054.372848   6500.000000   1901.279320\n",
       "max    8949.000000  19043.138560  30000.000000  50721.483360"
      ]
     },
     "execution_count": 251,
     "metadata": {},
     "output_type": "execute_result"
    }
   ],
   "source": [
    "df.describe()"
   ]
  },
  {
   "cell_type": "markdown",
   "id": "f60492e4",
   "metadata": {},
   "source": [
    "### Checking the skewness of the variables:"
   ]
  },
  {
   "cell_type": "code",
   "execution_count": 252,
   "id": "62cc44e5",
   "metadata": {},
   "outputs": [
    {
     "name": "stderr",
     "output_type": "stream",
     "text": [
      "C:\\Users\\nikit\\anaconda3\\lib\\site-packages\\seaborn\\distributions.py:2619: FutureWarning: `distplot` is a deprecated function and will be removed in a future version. Please adapt your code to use either `displot` (a figure-level function with similar flexibility) or `histplot` (an axes-level function for histograms).\n",
      "  warnings.warn(msg, FutureWarning)\n"
     ]
    },
    {
     "data": {
      "text/plain": [
       "<AxesSubplot:xlabel='BALANCE', ylabel='Density'>"
      ]
     },
     "execution_count": 252,
     "metadata": {},
     "output_type": "execute_result"
    },
    {
     "data": {
      "image/png": "[encoded data removed]",
      "text/plain": [
       "<Figure size 432x288 with 1 Axes>"
      ]
     },
     "metadata": {
      "needs_background": "light"
     },
     "output_type": "display_data"
    }
   ],
   "source": [
    "'''Are the data dimensions skewed?'''\n",
    "\n",
    "sns.distplot(df['BALANCE'])"
   ]
  },
  {
   "cell_type": "code",
   "execution_count": 253,
   "id": "66e3c94e",
   "metadata": {},
   "outputs": [
    {
     "name": "stderr",
     "output_type": "stream",
     "text": [
      "C:\\Users\\nikit\\anaconda3\\lib\\site-packages\\seaborn\\distributions.py:2619: FutureWarning: `distplot` is a deprecated function and will be removed in a future version. Please adapt your code to use either `displot` (a figure-level function with similar flexibility) or `histplot` (an axes-level function for histograms).\n",
      "  warnings.warn(msg, FutureWarning)\n"
     ]
    },
    {
     "data": {
      "text/plain": [
       "<AxesSubplot:xlabel='CREDIT_LIMIT', ylabel='Density'>"
      ]
     },
     "execution_count": 253,
     "metadata": {},
     "output_type": "execute_result"
    },
    {
     "data": {
      "image/png": "[encoded data removed]",
      "text/plain": [
       "<Figure size 432x288 with 1 Axes>"
      ]
     },
     "metadata": {
      "needs_background": "light"
     },
     "output_type": "display_data"
    }
   ],
   "source": [
    "sns.distplot(df['CREDIT_LIMIT'])"
   ]
  },
  {
   "cell_type": "code",
   "execution_count": 254,
   "id": "cf741846",
   "metadata": {
    "scrolled": true
   },
   "outputs": [
    {
     "name": "stderr",
     "output_type": "stream",
     "text": [
      "C:\\Users\\nikit\\anaconda3\\lib\\site-packages\\seaborn\\distributions.py:2619: FutureWarning: `distplot` is a deprecated function and will be removed in a future version. Please adapt your code to use either `displot` (a figure-level function with similar flexibility) or `histplot` (an axes-level function for histograms).\n",
      "  warnings.warn(msg, FutureWarning)\n"
     ]
    },
    {
     "data": {
      "text/plain": [
       "<AxesSubplot:xlabel='PAYMENTS', ylabel='Density'>"
      ]
     },
     "execution_count": 254,
     "metadata": {},
     "output_type": "execute_result"
    },
    {
     "data": {
      "image/png": "[encoded data removed]",
      "text/plain": [
       "<Figure size 432x288 with 1 Axes>"
      ]
     },
     "metadata": {
      "needs_background": "light"
     },
     "output_type": "display_data"
    }
   ],
   "source": [
    "sns.distplot(df['PAYMENTS'])"
   ]
  },
  {
   "cell_type": "code",
   "execution_count": 255,
   "id": "c8422d1b",
   "metadata": {},
   "outputs": [
    {
     "data": {
      "text/plain": [
       "CUST_ID           int64\n",
       "BALANCE         float64\n",
       "CREDIT_LIMIT    float64\n",
       "PAYMENTS        float64\n",
       "dtype: object"
      ]
     },
     "execution_count": 255,
     "metadata": {},
     "output_type": "execute_result"
    }
   ],
   "source": [
    "df.dtypes"
   ]
  },
  {
   "cell_type": "markdown",
   "id": "fcc372ef",
   "metadata": {},
   "source": [
    "##### Interpretation: Looks like the data is skewed. We log transform the data to remove the skew. Further, adding a constant to offset any negative values."
   ]
  },
  {
   "cell_type": "code",
   "execution_count": 256,
   "id": "5ad91b72",
   "metadata": {},
   "outputs": [
    {
     "name": "stdout",
     "output_type": "stream",
     "text": [
      "(8949, 4)\n"
     ]
    },
    {
     "data": {
      "text/html": [
       "<div>\n",
       "<style scoped>\n",
       "    .dataframe tbody tr th:only-of-type {\n",
       "        vertical-align: middle;\n",
       "    }\n",
       "\n",
       "    .dataframe tbody tr th {\n",
       "        vertical-align: top;\n",
       "    }\n",
       "\n",
       "    .dataframe thead th {\n",
       "        text-align: right;\n",
       "    }\n",
       "</style>\n",
       "<table border=\"1\" class=\"dataframe\">\n",
       "  <thead>\n",
       "    <tr style=\"text-align: right;\">\n",
       "      <th></th>\n",
       "      <th>CUST_ID</th>\n",
       "      <th>BALANCE</th>\n",
       "      <th>CREDIT_LIMIT</th>\n",
       "      <th>PAYMENTS</th>\n",
       "    </tr>\n",
       "  </thead>\n",
       "  <tbody>\n",
       "    <tr>\n",
       "      <th>0</th>\n",
       "      <td>0.693147</td>\n",
       "      <td>3.735304</td>\n",
       "      <td>6.908755</td>\n",
       "      <td>5.312231</td>\n",
       "    </tr>\n",
       "    <tr>\n",
       "      <th>1</th>\n",
       "      <td>1.098612</td>\n",
       "      <td>8.071989</td>\n",
       "      <td>8.853808</td>\n",
       "      <td>8.319725</td>\n",
       "    </tr>\n",
       "    <tr>\n",
       "      <th>2</th>\n",
       "      <td>1.386294</td>\n",
       "      <td>7.822504</td>\n",
       "      <td>8.922792</td>\n",
       "      <td>6.434654</td>\n",
       "    </tr>\n",
       "    <tr>\n",
       "      <th>3</th>\n",
       "      <td>1.609438</td>\n",
       "      <td>7.419183</td>\n",
       "      <td>8.922792</td>\n",
       "      <td>0.000000</td>\n",
       "    </tr>\n",
       "    <tr>\n",
       "      <th>4</th>\n",
       "      <td>1.791759</td>\n",
       "      <td>6.707735</td>\n",
       "      <td>7.090910</td>\n",
       "      <td>6.521114</td>\n",
       "    </tr>\n",
       "    <tr>\n",
       "      <th>5</th>\n",
       "      <td>1.945910</td>\n",
       "      <td>7.501540</td>\n",
       "      <td>7.496097</td>\n",
       "      <td>7.244983</td>\n",
       "    </tr>\n",
       "    <tr>\n",
       "      <th>6</th>\n",
       "      <td>2.079442</td>\n",
       "      <td>6.442955</td>\n",
       "      <td>9.510519</td>\n",
       "      <td>8.757047</td>\n",
       "    </tr>\n",
       "    <tr>\n",
       "      <th>7</th>\n",
       "      <td>2.197225</td>\n",
       "      <td>7.509145</td>\n",
       "      <td>7.741099</td>\n",
       "      <td>6.522189</td>\n",
       "    </tr>\n",
       "    <tr>\n",
       "      <th>8</th>\n",
       "      <td>2.302585</td>\n",
       "      <td>6.923556</td>\n",
       "      <td>8.853808</td>\n",
       "      <td>6.535645</td>\n",
       "    </tr>\n",
       "    <tr>\n",
       "      <th>9</th>\n",
       "      <td>2.397895</td>\n",
       "      <td>5.031914</td>\n",
       "      <td>9.305741</td>\n",
       "      <td>7.061138</td>\n",
       "    </tr>\n",
       "  </tbody>\n",
       "</table>\n",
       "</div>"
      ],
      "text/plain": [
       "    CUST_ID   BALANCE  CREDIT_LIMIT  PAYMENTS\n",
       "0  0.693147  3.735304      6.908755  5.312231\n",
       "1  1.098612  8.071989      8.853808  8.319725\n",
       "2  1.386294  7.822504      8.922792  6.434654\n",
       "3  1.609438  7.419183      8.922792  0.000000\n",
       "4  1.791759  6.707735      7.090910  6.521114\n",
       "5  1.945910  7.501540      7.496097  7.244983\n",
       "6  2.079442  6.442955      9.510519  8.757047\n",
       "7  2.197225  7.509145      7.741099  6.522189\n",
       "8  2.302585  6.923556      8.853808  6.535645\n",
       "9  2.397895  5.031914      9.305741  7.061138"
      ]
     },
     "execution_count": 256,
     "metadata": {},
     "output_type": "execute_result"
    }
   ],
   "source": [
    "df2 = (np.log(df + 1))\n",
    "print(df2.shape)\n",
    "df2.head(10)"
   ]
  },
  {
   "cell_type": "code",
   "execution_count": 257,
   "id": "0d13483b",
   "metadata": {},
   "outputs": [
    {
     "name": "stderr",
     "output_type": "stream",
     "text": [
      "C:\\Users\\nikit\\anaconda3\\lib\\site-packages\\seaborn\\distributions.py:2619: FutureWarning: `distplot` is a deprecated function and will be removed in a future version. Please adapt your code to use either `displot` (a figure-level function with similar flexibility) or `histplot` (an axes-level function for histograms).\n",
      "  warnings.warn(msg, FutureWarning)\n"
     ]
    },
    {
     "data": {
      "text/plain": [
       "<AxesSubplot:xlabel='BALANCE', ylabel='Density'>"
      ]
     },
     "execution_count": 257,
     "metadata": {},
     "output_type": "execute_result"
    },
    {
     "data": {
      "image/png": "[encoded data removed]",
      "text/plain": [
       "<Figure size 432x288 with 1 Axes>"
      ]
     },
     "metadata": {
      "needs_background": "light"
     },
     "output_type": "display_data"
    }
   ],
   "source": [
    "'''Has log transfors made any difference?'''\n",
    "sns.distplot(df2['BALANCE'])"
   ]
  },
  {
   "cell_type": "code",
   "execution_count": 258,
   "id": "7264372d",
   "metadata": {},
   "outputs": [
    {
     "name": "stderr",
     "output_type": "stream",
     "text": [
      "C:\\Users\\nikit\\anaconda3\\lib\\site-packages\\seaborn\\distributions.py:2619: FutureWarning: `distplot` is a deprecated function and will be removed in a future version. Please adapt your code to use either `displot` (a figure-level function with similar flexibility) or `histplot` (an axes-level function for histograms).\n",
      "  warnings.warn(msg, FutureWarning)\n"
     ]
    },
    {
     "data": {
      "text/plain": [
       "<AxesSubplot:xlabel='CREDIT_LIMIT', ylabel='Density'>"
      ]
     },
     "execution_count": 258,
     "metadata": {},
     "output_type": "execute_result"
    },
    {
     "data": {
      "image/png": "[encoded data removed]",
      "text/plain": [
       "<Figure size 432x288 with 1 Axes>"
      ]
     },
     "metadata": {
      "needs_background": "light"
     },
     "output_type": "display_data"
    }
   ],
   "source": [
    "sns.distplot(df2['CREDIT_LIMIT'])"
   ]
  },
  {
   "cell_type": "code",
   "execution_count": 259,
   "id": "3f9230fa",
   "metadata": {},
   "outputs": [
    {
     "name": "stderr",
     "output_type": "stream",
     "text": [
      "C:\\Users\\nikit\\anaconda3\\lib\\site-packages\\seaborn\\distributions.py:2619: FutureWarning: `distplot` is a deprecated function and will be removed in a future version. Please adapt your code to use either `displot` (a figure-level function with similar flexibility) or `histplot` (an axes-level function for histograms).\n",
      "  warnings.warn(msg, FutureWarning)\n"
     ]
    },
    {
     "data": {
      "text/plain": [
       "<AxesSubplot:xlabel='PAYMENTS', ylabel='Density'>"
      ]
     },
     "execution_count": 259,
     "metadata": {},
     "output_type": "execute_result"
    },
    {
     "data": {
      "image/png": "[encoded data removed]",
      "text/plain": [
       "<Figure size 432x288 with 1 Axes>"
      ]
     },
     "metadata": {
      "needs_background": "light"
     },
     "output_type": "display_data"
    }
   ],
   "source": [
    "sns.distplot(df2['PAYMENTS'])"
   ]
  },
  {
   "cell_type": "markdown",
   "id": "41188912",
   "metadata": {},
   "source": [
    "## Interpretation:Looks like -\n",
    "    1. The BALANCE variable has been log transformed from 1-10000 to  1-10.\n",
    "    2. The CREDIT_LIMIT variable has been log transformed from 0-20000 to  5-10.\n",
    "    3. The PAYMENTS variable has been log transformed from 1-50000 to  1-12.\n",
    "    \n",
    "    "
   ]
  },
  {
   "cell_type": "markdown",
   "id": "a30b1bba",
   "metadata": {},
   "source": [
    "## D. K-Means Clustering Algorithm:"
   ]
  },
  {
   "cell_type": "code",
   "execution_count": 260,
   "id": "8fc93860",
   "metadata": {},
   "outputs": [],
   "source": [
    "#Importing Required Libraries\n",
    "import numpy as np\n",
    "import matplotlib.pyplot as plt\n",
    "import math as m"
   ]
  },
  {
   "cell_type": "code",
   "execution_count": 273,
   "id": "9ad4b1f5",
   "metadata": {},
   "outputs": [
    {
     "data": {
      "image/png": "[encoded data removed]",
      "text/plain": [
       "<Figure size 432x288 with 1 Axes>"
      ]
     },
     "metadata": {
      "needs_background": "light"
     },
     "output_type": "display_data"
    }
   ],
   "source": [
    "X = df2[[\"CREDIT_LIMIT\",\"PAYMENTS\"]]\n",
    "#Visualise data points\n",
    "plt.scatter(X[\"PAYMENTS\"],X[\"CREDIT_LIMIT\"],c='dodgerblue')\n",
    "plt.xlabel('Payments made till date')\n",
    "plt.ylabel('Credit limit in Dollars')\n",
    "plt.show()"
   ]
  },
  {
   "cell_type": "markdown",
   "id": "432de825",
   "metadata": {},
   "source": [
    "## **Interpretation:** Scatterplot for Credit_Limit vs Payments!"
   ]
  },
  {
   "cell_type": "code",
   "execution_count": 274,
   "id": "cee57469",
   "metadata": {},
   "outputs": [],
   "source": [
    "def KMeans(K,X):\n",
    "    # Select random observation as centroids\n",
    "    Centroids = (X.sample(n=K))\n",
    "    plt.scatter(X[\"PAYMENTS\"],X[\"CREDIT_LIMIT\"],c='black')\n",
    "    plt.scatter(Centroids[\"PAYMENTS\"],Centroids[\"CREDIT_LIMIT\"],c='red')\n",
    "    plt.xlabel('Payments made till date')\n",
    "    plt.ylabel('Credit limit in Dollars')\n",
    "    plt.show()\n",
    "    \n",
    "    # Step 3 - Assign all the points to the closest cluster centroid\n",
    "    # Step 4 - Recompute centroids of newly formed clusters\n",
    "    # Step 5 - Repeat step 3 and 4\n",
    "\n",
    "    diff = 1\n",
    "    j=0\n",
    "\n",
    "    while(diff!=0):\n",
    "        XD=X\n",
    "        i=1\n",
    "        for index1,row_c in Centroids.iterrows():\n",
    "            ED=[]\n",
    "            for index2,row_d in XD.iterrows():\n",
    "                d1=(row_c[\"PAYMENTS\"]-row_d[\"PAYMENTS\"])**2\n",
    "                d2=(row_c[\"CREDIT_LIMIT\"]-row_d[\"CREDIT_LIMIT\"])**2\n",
    "                d=np.sqrt(d1+d2)\n",
    "                ED.append(d)\n",
    "            X[i]=ED\n",
    "            i=i+1\n",
    "\n",
    "        C=[]\n",
    "        for index,row in X.iterrows():\n",
    "            min_dist=row[1]\n",
    "            pos=1\n",
    "            for i in range(K):\n",
    "                if row[i+1] < min_dist:\n",
    "                    min_dist = row[i+1]\n",
    "                    pos=i+1\n",
    "            C.append(pos)\n",
    "        X[\"Cluster\"]=C\n",
    "        Centroids_new = X.groupby([\"Cluster\"]).mean()[[\"CREDIT_LIMIT\",\"PAYMENTS\"]]\n",
    "        if j == 0:\n",
    "            diff=1\n",
    "            j=j+1\n",
    "        else:\n",
    "            diff = (Centroids_new['CREDIT_LIMIT'] - Centroids['CREDIT_LIMIT']).sum() + (Centroids_new['PAYMENTS'] - Centroids['PAYMENTS']).sum()\n",
    "            print(diff.sum())\n",
    "        Centroids = X.groupby([\"Cluster\"]).mean()[[\"CREDIT_LIMIT\",\"PAYMENTS\"]]\n",
    "\n",
    "    color=['blue','green','cyan','yellow','pink','darkcyan','brown','purple']\n",
    "    for k in range(K):\n",
    "        data=X[X[\"Cluster\"]==k+1]\n",
    "        plt.scatter(data[\"PAYMENTS\"],data[\"CREDIT_LIMIT\"],c=color[k])\n",
    "    plt.scatter(Centroids[\"PAYMENTS\"],Centroids[\"CREDIT_LIMIT\"],c='red')\n",
    "    plt.xlabel('Payments made till date')\n",
    "    plt.ylabel('Credit limit in Dollars')\n",
    "    plt.show()"
   ]
  },
  {
   "cell_type": "markdown",
   "id": "f3786a59",
   "metadata": {},
   "source": [
    "## E. Using this function for different values of K:"
   ]
  },
  {
   "cell_type": "markdown",
   "id": "c8f7088a",
   "metadata": {},
   "source": [
    "### 1. For Clusters = 3,"
   ]
  },
  {
   "cell_type": "code",
   "execution_count": 275,
   "id": "9bcb3ea6",
   "metadata": {},
   "outputs": [
    {
     "data": {
      "image/png": "[encoded data removed]",
      "text/plain": [
       "<Figure size 432x288 with 1 Axes>"
      ]
     },
     "metadata": {
      "needs_background": "light"
     },
     "output_type": "display_data"
    },
    {
     "name": "stderr",
     "output_type": "stream",
     "text": [
      "C:\\Users\\nikit\\AppData\\Local\\Temp/ipykernel_41904/4247246074.py:27: SettingWithCopyWarning: \n",
      "A value is trying to be set on a copy of a slice from a DataFrame.\n",
      "Try using .loc[row_indexer,col_indexer] = value instead\n",
      "\n",
      "See the caveats in the documentation: https://pandas.pydata.org/pandas-docs/stable/user_guide/indexing.html#returning-a-view-versus-a-copy\n",
      "  X[i]=ED\n"
     ]
    },
    {
     "name": "stdout",
     "output_type": "stream",
     "text": [
      "0.16081028008344855\n",
      "-0.21442777586522688\n",
      "-0.7347418465645981\n",
      "-1.0331032888923057\n",
      "-1.107783478122597\n",
      "-0.47196647811911463\n",
      "-0.19329889704908154\n",
      "-0.02386630714368171\n",
      "-0.009500589291651096\n",
      "-0.0038009332069810498\n",
      "-0.0038035279335000283\n",
      "-0.000632181158923828\n",
      "-0.000640525087245436\n",
      "0.0\n"
     ]
    },
    {
     "data": {
      "image/png": "[encoded data removed]",
      "text/plain": [
       "<Figure size 432x288 with 1 Axes>"
      ]
     },
     "metadata": {
      "needs_background": "light"
     },
     "output_type": "display_data"
    }
   ],
   "source": [
    "KMeans(3,X)"
   ]
  },
  {
   "cell_type": "markdown",
   "id": "b91bc546",
   "metadata": {},
   "source": [
    "### 2. For Clusters = 4,"
   ]
  },
  {
   "cell_type": "code",
   "execution_count": 276,
   "id": "3816eda1",
   "metadata": {},
   "outputs": [
    {
     "data": {
      "image/png": "[encoded data removed]",
      "text/plain": [
       "<Figure size 432x288 with 1 Axes>"
      ]
     },
     "metadata": {
      "needs_background": "light"
     },
     "output_type": "display_data"
    },
    {
     "name": "stdout",
     "output_type": "stream",
     "text": [
      "-0.00011700262294134234\n",
      "-0.06125317804702579\n",
      "-0.5321546061966114\n",
      "-0.8685218339928036\n",
      "-0.9953740069855945\n",
      "-0.8607812850422704\n",
      "-0.47755118376768546\n",
      "-0.12696830943271512\n",
      "0.027383249536886645\n",
      "0.041357495572376834\n",
      "0.06288090439267435\n",
      "0.0692608178021148\n",
      "0.07035104087290964\n",
      "0.07114971679948387\n",
      "0.09622565465012212\n",
      "0.06934322345228715\n",
      "0.03418586010019045\n",
      "0.04878669531274178\n",
      "0.037687141703271906\n",
      "0.018077946949454554\n",
      "0.002494437605972344\n",
      "-0.006210223018581651\n",
      "-0.0036307158924744343\n",
      "-0.014498633873864186\n",
      "-0.014325895123324273\n",
      "-0.010293297240328236\n",
      "-0.011293753632674708\n",
      "-0.01483116828190223\n",
      "-0.01041263918771218\n",
      "-0.006348890122741757\n",
      "-0.007881717939736355\n",
      "-0.00482285368709956\n",
      "-0.004437091710250307\n",
      "-0.001254656635937046\n",
      "-0.0006987796002713154\n",
      "-0.0006773116259592982\n",
      "-0.0006894570801216915\n",
      "-0.0006736783548024761\n",
      "-0.001335265038973077\n",
      "-0.0006670547672111837\n",
      "0.0\n"
     ]
    },
    {
     "data": {
      "image/png": "[encoded data removed]",
      "text/plain": [
       "<Figure size 432x288 with 1 Axes>"
      ]
     },
     "metadata": {
      "needs_background": "light"
     },
     "output_type": "display_data"
    }
   ],
   "source": [
    "KMeans(4,X)"
   ]
  },
  {
   "cell_type": "markdown",
   "id": "d327b0b9",
   "metadata": {},
   "source": [
    "### 3. For Clusters = 5,"
   ]
  },
  {
   "cell_type": "code",
   "execution_count": 277,
   "id": "45e1acdc",
   "metadata": {},
   "outputs": [
    {
     "data": {
      "image/png": "[encoded data removed]",
      "text/plain": [
       "<Figure size 432x288 with 1 Axes>"
      ]
     },
     "metadata": {
      "needs_background": "light"
     },
     "output_type": "display_data"
    },
    {
     "name": "stdout",
     "output_type": "stream",
     "text": [
      "-0.9749797279899983\n",
      "-1.0019648246295798\n",
      "-1.099087115854724\n",
      "-1.3016726987432055\n",
      "-1.4665282974637683\n",
      "-0.918082446960756\n",
      "-0.4078877687121613\n",
      "-0.2390447099371812\n",
      "-0.16665371135689314\n",
      "-0.11771292567694047\n",
      "-0.1152163122055212\n",
      "-0.08204167981376109\n",
      "-0.05544064706402008\n",
      "-0.04198676845925586\n",
      "-0.03424069722087175\n",
      "-0.027847377322363087\n",
      "-0.023939563850754908\n",
      "-0.01763912504320686\n",
      "-0.011338768215940931\n",
      "-0.004966226374903293\n",
      "-0.0018891619124241643\n",
      "-0.0024220988859564585\n",
      "-0.004937507886627834\n",
      "-0.0037728771580978204\n",
      "-0.0018851408753564058\n",
      "-0.00062947256658763\n",
      "0.0\n"
     ]
    },
    {
     "data": {
      "image/png": "[encoded data removed]",
      "text/plain": [
       "<Figure size 432x288 with 1 Axes>"
      ]
     },
     "metadata": {
      "needs_background": "light"
     },
     "output_type": "display_data"
    }
   ],
   "source": [
    "KMeans(5,X)"
   ]
  },
  {
   "cell_type": "markdown",
   "id": "c711d7a9",
   "metadata": {},
   "source": [
    "### 4. For Clusters = 6,"
   ]
  },
  {
   "cell_type": "code",
   "execution_count": 270,
   "id": "e7726eb3",
   "metadata": {},
   "outputs": [
    {
     "data": {
      "image/png": "[encoded data removed]",
      "text/plain": [
       "<Figure size 432x288 with 1 Axes>"
      ]
     },
     "metadata": {
      "needs_background": "light"
     },
     "output_type": "display_data"
    },
    {
     "name": "stdout",
     "output_type": "stream",
     "text": [
      "-2.6557615226720723\n",
      "-0.22933342085777458\n",
      "0.11094361034380196\n",
      "0.11120814812157231\n",
      "0.06411008139829555\n",
      "0.04488012933497476\n",
      "0.039171071254322065\n",
      "0.026029622261995122\n",
      "0.01744811135587998\n",
      "0.02069206747417507\n",
      "0.01108224676999825\n",
      "0.005218804240714192\n",
      "0.007739525756386811\n",
      "0.005150975945380054\n",
      "0.0030549221915352476\n",
      "0.002550624999374307\n",
      "0.0\n"
     ]
    },
    {
     "data": {
      "image/png": "[encoded data removed]",
      "text/plain": [
       "<Figure size 432x288 with 1 Axes>"
      ]
     },
     "metadata": {
      "needs_background": "light"
     },
     "output_type": "display_data"
    }
   ],
   "source": [
    "KMeans(6,X)"
   ]
  },
  {
   "cell_type": "markdown",
   "id": "05d07562",
   "metadata": {},
   "source": [
    "### 5. For Clusters = 7,"
   ]
  },
  {
   "cell_type": "code",
   "execution_count": 278,
   "id": "a297f883",
   "metadata": {},
   "outputs": [
    {
     "data": {
      "image/png": "[encoded data removed]",
      "text/plain": [
       "<Figure size 432x288 with 1 Axes>"
      ]
     },
     "metadata": {
      "needs_background": "light"
     },
     "output_type": "display_data"
    },
    {
     "name": "stdout",
     "output_type": "stream",
     "text": [
      "-0.9833291736926848\n",
      "-0.5989289172544383\n",
      "-0.18382280506495097\n",
      "-0.18516778994692706\n",
      "-0.07228698962889446\n",
      "-0.10855562950498607\n",
      "0.023705130154934112\n",
      "0.05839340278780636\n",
      "0.03029999310088094\n",
      "0.0005363791005006391\n",
      "-0.00808630964124557\n",
      "-0.007350775468980331\n",
      "-0.0006310229281956126\n",
      "-0.013190412666665097\n",
      "-0.011397957927831825\n",
      "-0.013712213609701429\n",
      "-0.0013804795654426272\n",
      "-0.007956858925910026\n",
      "0.00010891440317539747\n",
      "-0.011368168962109237\n",
      "-0.013217659877462928\n",
      "-0.025019559903262767\n",
      "-0.01822366558942523\n",
      "-0.04593719381543249\n",
      "-0.05027716501873414\n",
      "-0.03755328978404204\n",
      "-0.045402585206460344\n",
      "-0.06381867326280855\n",
      "-0.04393021241079431\n",
      "-0.014466923440807022\n",
      "-0.016500474240318752\n",
      "-0.026594729916922688\n",
      "-0.021367872408672106\n",
      "-0.016105362061344053\n",
      "-0.009744632926151908\n",
      "-0.009064660211431708\n",
      "-1.9949453605505596e-05\n",
      "0.0010417284415229489\n",
      "0.00013853883956294055\n",
      "-0.0025278699745330258\n",
      "7.234072480422071e-05\n",
      "-0.0004903572070737994\n",
      "0.0011085249652724727\n",
      "-0.0008264907702013602\n",
      "-0.0008634626291588177\n",
      "0.0023701790425620928\n",
      "0.0005518881828256994\n",
      "0.009748061261147356\n",
      "0.007620229768265041\n",
      "0.008506970190806484\n",
      "0.0028868603537368642\n",
      "0.0038474475695275956\n",
      "-0.0020350863326923374\n",
      "5.878083815691326e-05\n",
      "5.304050778853764e-05\n",
      "0.0018618503881047133\n",
      "0.0009054837152433493\n",
      "0.0\n"
     ]
    },
    {
     "data": {
      "image/png": "[encoded data removed]",
      "text/plain": [
       "<Figure size 432x288 with 1 Axes>"
      ]
     },
     "metadata": {
      "needs_background": "light"
     },
     "output_type": "display_data"
    }
   ],
   "source": [
    "KMeans(7,X)"
   ]
  },
  {
   "cell_type": "markdown",
   "id": "4fdfdbcf",
   "metadata": {},
   "source": [
    "# E. Plotting graph"
   ]
  },
  {
   "cell_type": "markdown",
   "id": "aef4814b",
   "metadata": {},
   "source": [
    "#### - ‘epsilon’ which is defined as the sum of squares of euclidean distances between data points and its respective centroid.\n",
    "#### - We iterate the entire process until there is no significant change in the value of ‘Epsilon’ suggesting there is no significant change in cluster formation."
   ]
  },
  {
   "cell_type": "code",
   "execution_count": 284,
   "id": "0222cdcf",
   "metadata": {},
   "outputs": [],
   "source": [
    "number_of_iterations = 5\n",
    "epsilon = list(range(number_of_iterations)) # 'epsilon' is the sum of squares of distances between points and centroid of a cluster for each iteration"
   ]
  },
  {
   "cell_type": "code",
   "execution_count": 285,
   "id": "7709a5a0",
   "metadata": {},
   "outputs": [],
   "source": [
    "rows = df2.shape[0]"
   ]
  },
  {
   "cell_type": "code",
   "execution_count": 286,
   "id": "3d2afb73",
   "metadata": {},
   "outputs": [],
   "source": [
    "centroids = cluster.loc[np.random.randint(1,rows+1,k)] # Randomly initialises 'k' no. of centroids.\n",
    "centroids['new'] = list(range(1,k+1)) \n",
    "centroids.set_index('new',inplace = True) # New indices 1 to k are set for the dataframe 'centroids'.\n",
    "d = np.random.rand(rows) # Initialization of d which would contain the centroid number closest to data point."
   ]
  },
  {
   "cell_type": "code",
   "execution_count": 287,
   "id": "94e70377",
   "metadata": {},
   "outputs": [],
   "source": [
    "for i in range(0,number_of_iterations): # This 'for' loop is for iterations.\n",
    "\n",
    "    for j in range(0,rows): # This 'for' loop finds the centroid number closest to the data point.\n",
    "        d[j] = ((centroids - df2.loc[j])**2).sum(axis = 1).idxmin()\n",
    "    df2['centroid number'] = d # A new column 'centroid number' is added to dataframe 'cluster'.\n"
   ]
  },
  {
   "cell_type": "code",
   "execution_count": 288,
   "id": "a32150d5",
   "metadata": {},
   "outputs": [
    {
     "data": {
      "text/plain": [
       "Text(0, 0.5, 'Square root of epsilon')"
      ]
     },
     "execution_count": 288,
     "metadata": {},
     "output_type": "execute_result"
    },
    {
     "data": {
      "image/png": "[encoded data removed]",
      "text/plain": [
       "<Figure size 1440x720 with 1 Axes>"
      ]
     },
     "metadata": {
      "needs_background": "light"
     },
     "output_type": "display_data"
    }
   ],
   "source": [
    "# Plotting graph of 'Iteration number' vs 'Square root of Epsilon'\n",
    "a = list(range(1,6))\n",
    "plt.figure(figsize=(20,10)) # Size of figure is adjusted.\n",
    "plt.xticks(fontsize=20) # Size of number labels on x-axis is adjusted.\n",
    "plt.yticks(fontsize=20) # Size of number labels on y-axis is adjusted.\n",
    "plt.plot(a, [x**0.5 for x in epsilon], 'go--', linewidth=1.5, markersize=4)\n",
    "plt.xlabel('Iteration number',fontsize=20) \n",
    "plt.ylabel('Square root of epsilon',fontsize=20) "
   ]
  },
  {
   "cell_type": "markdown",
   "id": "f0569bae",
   "metadata": {},
   "source": [
    "## Interpretation:\n",
    "From the above graph we can see that there is no significant change in the square root of epsilon value after iteration number 3. So thats where we must stop."
   ]
  },
  {
   "cell_type": "markdown",
   "id": "fd68a554",
   "metadata": {},
   "source": [
    "# F. Conclusion -\n",
    "1. KMeans clustering algorithm to form clusters of customers with respect to credit card usage was developed using the CREDIT_LIMT and PAYMENTS variables.\n",
    "2. Kmeans clustering as a set of funtion was derived without machine learning libraries in python.\n",
    "\n",
    "References:\n",
    "* Scikit learn offcial documentation - https://scikit-learn.org/stable/modules/generated/sklearn.cluster.KMeans.html\n",
    "* Medium Article https://medium.com/nerd-for-tech/k-means-python-implementation-from-scratch-8400f30b8e5c\n",
    "* https://www.analyticsvidhya.com/blog/2019/08/comprehensive-guide-k-means-clustering/"
   ]
  },
  {
   "cell_type": "markdown",
   "id": "6cde51b5",
   "metadata": {},
   "source": [
    "### ...........................................................................THANK YOU.......................................................................................\n",
    "--------------------------------------------------------------------------------------------------------------------------------\n"
   ]
  },
  {
   "cell_type": "code",
   "execution_count": null,
   "id": "0c0eec0a",
   "metadata": {},
   "outputs": [],
   "source": []
  }
 ],
 "metadata": {
  "kernelspec": {
   "display_name": "Python 3 (ipykernel)",
   "language": "python",
   "name": "python3"
  },
  "language_info": {
   "codemirror_mode": {
    "name": "ipython",
    "version": 3
   },
   "file_extension": ".py",
   "mimetype": "text/x-python",
   "name": "python",
   "nbconvert_exporter": "python",
   "pygments_lexer": "ipython3",
   "version": "3.9.7"
  }
 },
 "nbformat": 4,
 "nbformat_minor": 5
}
